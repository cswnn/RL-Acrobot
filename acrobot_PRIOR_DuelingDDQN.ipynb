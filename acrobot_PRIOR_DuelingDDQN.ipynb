{
 "cells": [
  {
   "cell_type": "markdown",
   "metadata": {},
   "source": [
    "* 실행환경: Colab\n",
    "* python version: 3.9.9\n",
    "* gymnasium: 1.0.0\n",
    "* torch: 2.5.1+cu118"
   ]
  },
  {
   "cell_type": "code",
   "execution_count": null,
   "metadata": {
    "executionInfo": {
     "elapsed": 2624,
     "status": "ok",
     "timestamp": 1732519666878,
     "user": {
      "displayName": "윤성",
      "userId": "07540836697092043729"
     },
     "user_tz": -540
    },
    "id": "mp7pTt14UKDw"
   },
   "outputs": [],
   "source": [
    "# %%capture\n",
    "# %%bash\n",
    "# pip install gymnasium"
   ]
  },
  {
   "cell_type": "code",
   "execution_count": null,
   "metadata": {
    "colab": {
     "base_uri": "https://localhost:8080/"
    },
    "executionInfo": {
     "elapsed": 524,
     "status": "ok",
     "timestamp": 1732519808752,
     "user": {
      "displayName": "윤성",
      "userId": "07540836697092043729"
     },
     "user_tz": -540
    },
    "id": "R_0XUxN32vrK",
    "outputId": "07620da5-c643-4af9-bbe3-0e2a5cdb8b22"
   },
   "outputs": [
    {
     "name": "stdout",
     "output_type": "stream",
     "text": [
      "cuda\n"
     ]
    }
   ],
   "source": [
    "import gymnasium as gym\n",
    "import os\n",
    "import math\n",
    "import numpy as np\n",
    "import torch\n",
    "import torch.nn as nn\n",
    "import torch.optim as optim\n",
    "import random\n",
    "import matplotlib\n",
    "import matplotlib.pyplot as plt\n",
    "from collections import namedtuple, deque\n",
    "from itertools import count\n",
    "from gymnasium.envs.registration import register\n",
    "from gymnasium.envs.classic_control.acrobot import AcrobotEnv\n",
    "import warnings\n",
    "\n",
    "warnings.filterwarnings('ignore')\n",
    "\n",
    "# set up matplotlib\n",
    "is_ipython = 'inline' in matplotlib.get_backend()\n",
    "if is_ipython:\n",
    "    from IPython import display\n",
    "\n",
    "plt.ion() # matplotlib를 interactive mode로 설정 -> 그래프를 실시간으로 업데이트할 수 있도록 함\n",
    "\n",
    "device = torch.device(\n",
    "    \"cuda\" if torch.cuda.is_available() else\n",
    "    \"mps\" if torch.backends.mps.is_available() else\n",
    "    \"cpu\"\n",
    ")\n",
    "print(device)"
   ]
  },
  {
   "cell_type": "code",
   "execution_count": 3,
   "metadata": {
    "colab": {
     "base_uri": "https://localhost:8080/"
    },
    "executionInfo": {
     "elapsed": 12,
     "status": "ok",
     "timestamp": 1732519809751,
     "user": {
      "displayName": "윤성",
      "userId": "07540836697092043729"
     },
     "user_tz": -540
    },
    "id": "Iy8GUaxy3A1t",
    "outputId": "989e7ab6-7407-4ce0-bf2b-8f8b198c8e55"
   },
   "outputs": [
    {
     "name": "stdout",
     "output_type": "stream",
     "text": [
      "EnvSpec(id='CustomAcrobot-v0', entry_point='__main__:CustomAcrobotEnv', reward_threshold=None, nondeterministic=False, max_episode_steps=500, order_enforce=True, disable_env_checker=False, kwargs={'link1_length': 1.0, 'link2_length': 1.0}, namespace=None, name='CustomAcrobot', version=0, additional_wrappers=(), vector_entry_point=None)\n"
     ]
    }
   ],
   "source": [
    "class CustomAcrobotEnv(AcrobotEnv):\n",
    "    def __init__(self, link1_length=1.0, link2_length=1.0, *args, **kwargs):\n",
    "        super().__init__(*args, **kwargs)\n",
    "        self.LINK_LENGTH_1 = link1_length\n",
    "        self.LINK_LENGTH_2 = link2_length\n",
    "\n",
    "register(\n",
    "    id='CustomAcrobot-v0',\n",
    "    entry_point=__name__ + ':CustomAcrobotEnv',\n",
    "    kwargs={'link1_length': 1.0, 'link2_length': 1.0},\n",
    "    max_episode_steps=500\n",
    ")\n",
    "\n",
    "# Load the custom environment\n",
    "env = gym.make('CustomAcrobot-v0')\n",
    "print(env.spec)"
   ]
  },
  {
   "cell_type": "code",
   "execution_count": 4,
   "metadata": {
    "colab": {
     "base_uri": "https://localhost:8080/"
    },
    "executionInfo": {
     "elapsed": 36,
     "status": "ok",
     "timestamp": 1732519811420,
     "user": {
      "displayName": "윤성",
      "userId": "07540836697092043729"
     },
     "user_tz": -540
    },
    "id": "PBR4rvH5TYtX",
    "outputId": "f852f185-9fdc-46da-c5f3-9a4add890a37"
   },
   "outputs": [
    {
     "data": {
      "text/plain": [
       "<torch._C.Generator at 0x2a2c264e150>"
      ]
     },
     "execution_count": 4,
     "metadata": {},
     "output_type": "execute_result"
    }
   ],
   "source": [
    "SEED = 42\n",
    "\n",
    "env.action_space.seed(SEED)\n",
    "random.seed(SEED)\n",
    "np.random.seed(SEED)\n",
    "torch.manual_seed(SEED)"
   ]
  },
  {
   "cell_type": "code",
   "execution_count": 5,
   "metadata": {
    "executionInfo": {
     "elapsed": 684,
     "status": "ok",
     "timestamp": 1732519812748,
     "user": {
      "displayName": "윤성",
      "userId": "07540836697092043729"
     },
     "user_tz": -540
    },
    "id": "8OoiXxCDTYtZ"
   },
   "outputs": [],
   "source": [
    "def plot_rewards(show_result=False):\n",
    "\n",
    "    rewards_t = torch.tensor(episode_rewards, dtype=torch.float)\n",
    "\n",
    "    plt.clf()\n",
    "    plt.title('Result')\n",
    "    plt.xlabel('Episode')\n",
    "    plt.ylabel('Total Reward')\n",
    "    plt.plot(rewards_t.numpy(), label='Episode Reward')\n",
    "\n",
    "    # 100 에피소드 이동 평균 계산 및 플롯\n",
    "    if len(rewards_t) >= 100:\n",
    "        means = rewards_t.unfold(0, 100, 1).mean(1).view(-1)\n",
    "        means = torch.cat((torch.zeros(99), means))\n",
    "        plt.plot(means.numpy(), label='100 Episode Avg', linestyle='--')\n",
    "\n",
    "    plt.legend()\n",
    "    plt.pause(0.001)\n",
    "\n",
    "    if is_ipython:\n",
    "        if not show_result:\n",
    "            display.display(plt.gcf())\n",
    "            display.clear_output(wait=True)\n",
    "        else:\n",
    "            display.display(plt.gcf())"
   ]
  },
  {
   "cell_type": "code",
   "execution_count": 6,
   "metadata": {
    "executionInfo": {
     "elapsed": 4,
     "status": "ok",
     "timestamp": 1732519812748,
     "user": {
      "displayName": "윤성",
      "userId": "07540836697092043729"
     },
     "user_tz": -540
    },
    "id": "LiMuG691TYtZ"
   },
   "outputs": [],
   "source": [
    "class DuelingDQN(nn.Module):\n",
    "    def __init__(self, n_observations, n_actions):\n",
    "        super(DuelingDQN, self).__init__()\n",
    "        self.fc1 = nn.Linear(n_observations, 256)\n",
    "        self.fc2 = nn.Linear(256, 256)\n",
    "        self.fc3 = nn.Linear(256, 128)\n",
    "\n",
    "        # DuelingDQN 적용\n",
    "        # 상태값 계산을 위한 레이어\n",
    "        self.fc_value = nn.Sequential(\n",
    "            nn.Linear(128, 64),\n",
    "            nn.LeakyReLU(),\n",
    "            nn.Dropout(p=0.2),\n",
    "            nn.Linear(64, 1)\n",
    "            )\n",
    "\n",
    "        # 행동 이점 계산을 위한 레이어\n",
    "        self.fc_advantage = nn.Sequential(\n",
    "            nn.Linear(128, 64),\n",
    "            nn.LeakyReLU(),\n",
    "            nn.Dropout(p=0.2),\n",
    "            nn.Linear(64, n_actions)  # 행동 이점은 행동 공간 크기\n",
    "        )\n",
    "\n",
    "    def forward(self, x):\n",
    "        x = torch.nn.functional.leaky_relu(self.fc1(x))\n",
    "        x = torch.nn.functional.leaky_relu(self.fc2(x))\n",
    "        x = torch.nn.functional.leaky_relu(self.fc3(x))\n",
    "\n",
    "        # 상태값과 행동 이점 계산\n",
    "        value = self.fc_value(x)\n",
    "        advantage = self.fc_advantage(x)\n",
    "\n",
    "        # 최종 Q값 계산\n",
    "        q_values = value + advantage - advantage.mean(1, keepdim=True)\n",
    "        return q_values\n",
    "\n",
    "Transition = namedtuple('Transition',\n",
    "                        ('state', 'action', 'next_state', 'reward'))\n",
    "\n",
    "class PrioritizedReplayMemory:\n",
    "    def __init__(self, capacity, alpha=0.6):\n",
    "        self.capacity = capacity\n",
    "        self.memory = deque([], maxlen=capacity)\n",
    "        self.priorities = deque([], maxlen=capacity)\n",
    "        self.alpha = alpha\n",
    "\n",
    "    def push(self, *args):\n",
    "        # 새로운 경험 추가\n",
    "        max_priority = max(self.priorities, default=1.0) # 가장 높은 우선순위로 초기화\n",
    "        self.memory.append(Transition(*args))\n",
    "        self.priorities.append(max(1e-5, float(max_priority)))\n",
    "\n",
    "    def sample(self, batch_size, beta=0.4):\n",
    "        priorities = np.array(self.priorities, dtype=np.float32).flatten()  # 1차원 배열로 변환\n",
    "\n",
    "        if priorities.sum() == 0:\n",
    "            raise ValueError(\"All priorities are zero.\")  # 우선순위 합이 0인 경우 예외 처리\n",
    "\n",
    "        # 우선순위를 확률로 변환\n",
    "        probabilities = priorities ** self.alpha # alpha는 우선순위의 영향력을 제어\n",
    "        probabilities /= probabilities.sum()\n",
    "\n",
    "        # 우선순위(확률)에 따라 샘플 선택\n",
    "        indices = np.random.choice(len(self.memory), batch_size, p=probabilities)\n",
    "        samples = [self.memory[idx] for idx in indices]\n",
    "\n",
    "        # 중요도 가중치 계산\n",
    "        total = len(self.memory)\n",
    "        weights = (total * probabilities[indices]) ** (-beta)\n",
    "        weights /= weights.max()  # 가중치 정규화\n",
    "        weights = torch.tensor(weights, dtype=torch.float32, device=device)\n",
    "\n",
    "        return samples, weights, indices\n",
    "\n",
    "\n",
    "    def update_priorities(self, indices, priorities):\n",
    "            # 우선순위 업데이트\n",
    "            for idx, priority in zip(indices, priorities):\n",
    "                self.priorities[idx] = max(1e-5, float(priority)) # 최소값 보장\n",
    "\n",
    "    def __len__(self):\n",
    "        return len(self.memory)\n",
    "\n",
    "def optimize_model():\n",
    "    if len(memory) < BATCH_SIZE:\n",
    "        return\n",
    "\n",
    "    samples, weights, indices = memory.sample(BATCH_SIZE, beta)\n",
    "    batch = Transition(*zip(*samples))\n",
    "\n",
    "    # 다음 상태 중 None이 아닌 것만 선택\n",
    "    non_final_mask = torch.tensor(tuple(map(lambda s: s is not None, batch.next_state)), device=device, dtype=torch.bool)\n",
    "    non_final_next_states = torch.cat([s for s in batch.next_state if s is not None]).to(device)\n",
    "    # 모든 상태를 (배치 크기, 채널 수, 높이, 너비) 형식으로 연결\n",
    "    state_batch = torch.cat(batch.state).to(device)\n",
    "    action_batch = torch.cat(batch.action).to(device) # 각 상태에 대해 선택된 행동의 인덱스\n",
    "    reward_batch = torch.cat(batch.reward).to(device)\n",
    "\n",
    "    # Q값 계산\n",
    "    state_action_values = policy_net(state_batch).gather(1, action_batch)\n",
    "\n",
    "    # 다음 상태의 Q값 계산\n",
    "    next_state_values = torch.zeros(BATCH_SIZE, device=device)\n",
    "    with torch.no_grad():\n",
    "        # Double DQN으로 수정\n",
    "        next_actions = policy_net(non_final_next_states).max(1).indices.unsqueeze(1)\n",
    "        next_state_values[non_final_mask] = target_net(non_final_next_states).gather(1, next_actions).squeeze(1)\n",
    "\n",
    "    # 기대 Q값 계산\n",
    "    expected_state_action_values = (next_state_values * GAMMA) + reward_batch\n",
    "\n",
    "    td_errors = (state_action_values - expected_state_action_values.unsqueeze(1)).abs().detach()\n",
    "    td_errors = td_errors.cpu().numpy()\n",
    "    td_errors = np.maximum(td_errors, 1e-5)  # 최소값 보장\n",
    "    memory.update_priorities(indices, td_errors)\n",
    "\n",
    "    # Huber 손실 함수와 중요도 가중치 적용\n",
    "    criterion = nn.SmoothL1Loss() # 작은 오차에는 MSE로 동작, 큰 오차에는 L1 Loss로 동작\n",
    "    \n",
    "    loss = criterion(state_action_values, expected_state_action_values.unsqueeze(1))\n",
    "    loss = (weights * loss).mean() # 중요도 가중치 적용\n",
    "\n",
    "    # 모델 최적화\n",
    "    optimizer.zero_grad()\n",
    "    loss.backward()\n",
    "    torch.nn.utils.clip_grad_value_(policy_net.parameters(), 100)\n",
    "    optimizer.step()\n",
    "\n",
    "\n",
    "def select_action(state):\n",
    "    global steps_done\n",
    "    sample = random.random()\n",
    "    eps_threshold = EPS_END + (EPS_START - EPS_END) * math.exp(-1. * steps_done / EPS_DECAY)\n",
    "    steps_done += 1\n",
    "\n",
    "    state = state.to(device)\n",
    "\n",
    "    # 초기 eps_threshold는 1.0. steps_done이 증가함에 따라 점진적으로 감소하여 결국 Q-value가 가장 큰 행동을 선택.\n",
    "    if sample > eps_threshold:\n",
    "        with torch.no_grad():\n",
    "            return policy_net(state).max(1).indices.view(1,1)\n",
    "\n",
    "    else:\n",
    "        return torch.tensor([[env.action_space.sample()]], device=device, dtype=torch.long)\n"
   ]
  },
  {
   "cell_type": "code",
   "execution_count": 7,
   "metadata": {
    "executionInfo": {
     "elapsed": 5,
     "status": "ok",
     "timestamp": 1732519813213,
     "user": {
      "displayName": "윤성",
      "userId": "07540836697092043729"
     },
     "user_tz": -540
    },
    "id": "-cgzFxQYTYtZ"
   },
   "outputs": [],
   "source": [
    "# 학습 파라미터\n",
    "BATCH_SIZE = 128\n",
    "GAMMA = 0.99\n",
    "EPS_START = 1.0\n",
    "EPS_END = 0.1\n",
    "EPS_DECAY = 20000 # 크게 할수록 캄험이 더 오래 지속 -> 새로운 더 많이 탐색\n",
    "TAU = 0.005\n",
    "LR = 5e-4\n",
    "memory_capacity = 50000 # 크게 할수록 에이전트가 더 많은 경험을 저장\n",
    "\n",
    "n_actions = env.action_space.n # 3\n",
    "\n",
    "state, info = env.reset()\n",
    "n_observations = len(state) # 6\n",
    "\n",
    "policy_net = DuelingDQN(n_observations, n_actions).to(device)\n",
    "target_net = DuelingDQN(n_observations, n_actions).to(device)\n",
    "target_net.load_state_dict(policy_net.state_dict())\n",
    "target_net.eval()\n",
    "\n",
    "optimizer = optim.AdamW(policy_net.parameters(), lr=LR, amsgrad=True)\n",
    "memory = PrioritizedReplayMemory(memory_capacity)\n",
    "\n",
    "steps_done = 0\n",
    "\n",
    "alpha = 0.6\n",
    "beta = 0.4\n",
    "\n",
    "episode_rewards = []\n",
    "score = 0.0\n",
    "\n",
    "if torch.cuda.is_available() or torch.backends.mps.is_available():\n",
    "    num_episodes = 1000\n",
    "else:\n",
    "    num_episodes = 50"
   ]
  },
  {
   "cell_type": "code",
   "execution_count": null,
   "metadata": {
    "id": "aPoqUI1ZTYta"
   },
   "outputs": [],
   "source": [
    "for episode in range(num_episodes+1):\n",
    "\n",
    "    state, info = env.reset(seed=SEED)\n",
    "    state = torch.tensor(state, dtype=torch.float32, device=device).unsqueeze(0)\n",
    "\n",
    "    episode_reward = 0\n",
    "\n",
    "    for t in count(): # 무한 반복\n",
    "        if episode < 10:  # 초기 10 에피소드는 무조건 랜덤 행동\n",
    "            action = torch.tensor([[env.action_space.sample()]], device=device, dtype=torch.long)\n",
    "        else:\n",
    "            action = select_action(state)\n",
    "            \n",
    "        next_state, reward, terminated, truncated, _ = env.step(action.item())\n",
    "        reward = torch.tensor([reward], device=device)\n",
    "        done = terminated or truncated\n",
    "\n",
    "        score += reward.item()\n",
    "        episode_reward += reward.item()\n",
    "\n",
    "        if not done:\n",
    "            next_state = torch.tensor(next_state, dtype=torch.float32, device=device).unsqueeze(0)\n",
    "        else:\n",
    "            next_state = None\n",
    "\n",
    "        memory.push(state, action, next_state, reward)\n",
    "        state = next_state\n",
    "\n",
    "        # policy network 업데이트\n",
    "        optimize_model()\n",
    "\n",
    "        # target network 업데이트\n",
    "        target_net_state_dict = target_net.state_dict()\n",
    "        policy_net_state_dict = policy_net.state_dict()\n",
    "        for key in policy_net_state_dict:\n",
    "            target_net_state_dict[key] = policy_net_state_dict[key]*TAU + target_net_state_dict[key]*(1-TAU)\n",
    "        target_net.load_state_dict(target_net_state_dict)\n",
    "\n",
    "        if done:\n",
    "            episode_rewards.append(episode_reward)\n",
    "            break\n",
    "\n",
    "    if episode % 10 == 0 and episode != 0:\n",
    "        plot_rewards()\n",
    "\n",
    "        \n",
    "print('Complete')\n",
    "plot_rewards(show_result=True)\n",
    "plt.ioff()\n",
    "plt.show()\n",
    "print('Average Reward: {}'.format(sum(episode_rewards)/num_episodes))"
   ]
  },
  {
   "cell_type": "code",
   "execution_count": null,
   "metadata": {
    "colab": {
     "base_uri": "https://localhost:8080/"
    },
    "executionInfo": {
     "elapsed": 525,
     "status": "ok",
     "timestamp": 1732516198058,
     "user": {
      "displayName": "윤성",
      "userId": "07540836697092043729"
     },
     "user_tz": -540
    },
    "id": "9eXJUkB0i8WH",
    "outputId": "55738900-ec5c-453b-e2dc-16ed292a9e56"
   },
   "outputs": [],
   "source": [
    "episode_rewards"
   ]
  },
  {
   "cell_type": "code",
   "execution_count": null,
   "metadata": {},
   "outputs": [],
   "source": []
  }
 ],
 "metadata": {
  "accelerator": "GPU",
  "colab": {
   "gpuType": "T4",
   "provenance": []
  },
  "kernelspec": {
   "display_name": "Python 3",
   "name": "python3"
  },
  "language_info": {
   "codemirror_mode": {
    "name": "ipython",
    "version": 3
   },
   "file_extension": ".py",
   "mimetype": "text/x-python",
   "name": "python",
   "nbconvert_exporter": "python",
   "pygments_lexer": "ipython3",
   "version": "3.9.9"
  }
 },
 "nbformat": 4,
 "nbformat_minor": 0
}
